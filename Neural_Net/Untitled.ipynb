{
 "cells": [
  {
   "cell_type": "code",
   "execution_count": 1,
   "metadata": {},
   "outputs": [],
   "source": [
    "import data_sampler\n",
    "import network2\n",
    "\n",
    "sampler = data_sampler.DataSampler()\n",
    "sampler.draw_sample()\n",
    "tr_data, val_data, test_data = sampler.draw_train_val_test_sample()"
   ]
  },
  {
   "cell_type": "code",
   "execution_count": 2,
   "metadata": {},
   "outputs": [
    {
     "name": "stdout",
     "output_type": "stream",
     "text": [
      "[array([[-0.68554652],\n",
      "       [ 0.01030581]]), array([[ 0.90104109],\n",
      "       [-1.63295697],\n",
      "       [ 0.72445195]]), array([[ 1.57381177],\n",
      "       [-1.97478111],\n",
      "       [ 0.51467487],\n",
      "       [ 1.0207323 ]]), array([[-0.50181827]])]\n"
     ]
    }
   ],
   "source": [
    "net = network2.Network([1, 2, 3, 4, 1])\n",
    "print(net.biases)"
   ]
  },
  {
   "cell_type": "code",
   "execution_count": 3,
   "metadata": {},
   "outputs": [
    {
     "name": "stdout",
     "output_type": "stream",
     "text": [
      "Epoch  0: 33.251\n",
      "Epoch  1: 33.244\n",
      "Epoch  2: 33.248\n",
      "Epoch  3: 33.242\n",
      "Epoch  4: 33.247\n",
      "Epoch  5: 33.248\n",
      "Epoch  6: 33.251\n",
      "Epoch  7: 33.243\n",
      "Epoch  8: 33.248\n",
      "Epoch  9: 33.238\n"
     ]
    }
   ],
   "source": [
    "net.train(tr_data, epochs=10, batch_size=100, eta=1.0, test_data=test_data)"
   ]
  }
 ],
 "metadata": {
  "kernelspec": {
   "display_name": "Python 3",
   "language": "python",
   "name": "python3"
  },
  "language_info": {
   "codemirror_mode": {
    "name": "ipython",
    "version": 3
   },
   "file_extension": ".py",
   "mimetype": "text/x-python",
   "name": "python",
   "nbconvert_exporter": "python",
   "pygments_lexer": "ipython3",
   "version": "3.6.7"
  },
  "toc": {
   "base_numbering": 1,
   "nav_menu": {},
   "number_sections": true,
   "sideBar": true,
   "skip_h1_title": true,
   "title_cell": "Table of Contents",
   "title_sidebar": "Contents",
   "toc_cell": false,
   "toc_position": {},
   "toc_section_display": true,
   "toc_window_display": false
  }
 },
 "nbformat": 4,
 "nbformat_minor": 2
}
