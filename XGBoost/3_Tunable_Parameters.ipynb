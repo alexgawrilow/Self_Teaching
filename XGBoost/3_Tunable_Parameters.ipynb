{
 "cells": [
  {
   "cell_type": "markdown",
   "metadata": {},
   "source": [
    "**Learning rate**: <br>\n",
    "- how quickly the modell fits the residual error using additional base learners <br>\n",
    "- low  learning rate requires high number of boosting rounds\n",
    "\n",
    "**Gamma**<br>\n",
    "- min loss reduction to create new tree split\n",
    "- regularizes model<br>\n",
    "\n",
    "**lambda**<br>\n",
    "- L2 regularization on leaf weights\n",
    "\n",
    "**alpha**<br>\n",
    "- L1 regularization on leaf weights\n",
    "\n",
    "**max_depth**<br>\n",
    "- max depth per tree\n",
    "\n",
    "**subsample**<br>\n",
    "- percentage of total training set (rows) used per tree\n",
    "\n",
    "**colsample by tree**<br>\n",
    "- percentage of features (columns) used per tree\n",
    "\n",
    "**number of boosting round**<br>\n",
    "- number of base learners used for the final model"
   ]
  }
 ],
 "metadata": {
  "kernelspec": {
   "display_name": "Python 3",
   "language": "python",
   "name": "python3"
  },
  "language_info": {
   "codemirror_mode": {
    "name": "ipython",
    "version": 3
   },
   "file_extension": ".py",
   "mimetype": "text/x-python",
   "name": "python",
   "nbconvert_exporter": "python",
   "pygments_lexer": "ipython3",
   "version": "3.6.7"
  },
  "toc": {
   "base_numbering": 1,
   "nav_menu": {},
   "number_sections": true,
   "sideBar": true,
   "skip_h1_title": true,
   "title_cell": "Table of Contents",
   "title_sidebar": "Contents",
   "toc_cell": false,
   "toc_position": {},
   "toc_section_display": true,
   "toc_window_display": false
  }
 },
 "nbformat": 4,
 "nbformat_minor": 2
}
