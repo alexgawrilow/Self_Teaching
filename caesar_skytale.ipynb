{
 "cells": [
  {
   "cell_type": "code",
   "execution_count": 1,
   "metadata": {},
   "outputs": [],
   "source": [
    "import math\n",
    "from itertools import zip_longest\n",
    "\n",
    "alphabet_dict = {k: chr(k+65) for k in range(26)}\n",
    "alphabet_dict_inverse = {v: k for k, v in alphabet_dict.items()}\n",
    "\n",
    "\n",
    "class Caesar:\n",
    "    @staticmethod\n",
    "    def encrypt(plaint_text, key):\n",
    "        plaint_text = plaint_text.upper()\n",
    "        cipher_list = [\n",
    "            alphabet_dict[(alphabet_dict_inverse[l]-key)%26] if l.isalpha() else l for l in plaint_text\n",
    "        ]\n",
    "        return ''.join(cipher_list)\n",
    "\n",
    "    @staticmethod\n",
    "    def decrypt(cipher_text, key):\n",
    "        return Caesar.encrypt(cipher_text, -key)\n",
    "    \n",
    "class Skytale:\n",
    "    @staticmethod\n",
    "    def decrypt(cipher_text, key):\n",
    "        cipher_text = cipher_text.upper()\n",
    "        cipher_list = []\n",
    "        for position in range(key):\n",
    "            for l in cipher_text[position::key]:\n",
    "                cipher_list.append(l)   \n",
    "        return ''.join(cipher_list)\n",
    "    @staticmethod\n",
    "    def encrypt(plain_text, key):\n",
    "        n_columns = math.ceil(len(plain_text)/key)\n",
    "        cipher_list = []\n",
    "        end = 0\n",
    "        for row in range(key):\n",
    "            start = end\n",
    "            end = start + n_columns if row < len(plain_text) % key else start + n_columns - 1\n",
    "            cipher_list.append(plain_text[start:end])\n",
    "                    \n",
    "        return ''.join(''.join(col) for col in zip_longest(*cipher_list, fillvalue='*'))\n",
    "    \n",
    "class Trithemius:\n",
    "    @staticmethod\n",
    "    def decrypt(cipher_text):\n",
    "        caesar = [Caesar.decrypt(char, key) for key, char in enumerate(cipher_text)]\n",
    "        return ''.join(caesar)\n",
    "    \n",
    "    @staticmethod\n",
    "    def encrypt(plain_text):\n",
    "        caesar = [Caesar.encrypt(char, key) for key, char in enumerate(plain_text)]\n",
    "        return ''.join(caesar)"
   ]
  },
  {
   "cell_type": "markdown",
   "metadata": {},
   "source": [
    "## Trithemius"
   ]
  },
  {
   "cell_type": "code",
   "execution_count": 2,
   "metadata": {},
   "outputs": [
    {
     "data": {
      "text/plain": [
       "'ACHTDREINEUNZWEI'"
      ]
     },
     "execution_count": 2,
     "metadata": {},
     "output_type": "execute_result"
    }
   ],
   "source": [
    "cipher_text = 'ADJWHWKPVNEYLJSX'\n",
    "Trithemius.encrypt(cipher_text)"
   ]
  },
  {
   "cell_type": "markdown",
   "metadata": {},
   "source": [
    "## Skytale"
   ]
  },
  {
   "cell_type": "code",
   "execution_count": 3,
   "metadata": {},
   "outputs": [
    {
     "data": {
      "text/plain": [
       "'WELCHEBRILLETRAEGTMANNICHT?  '"
      ]
     },
     "execution_count": 3,
     "metadata": {},
     "output_type": "execute_result"
    }
   ],
   "source": [
    "cipher = 'WCERLERETANCT EHBILTAGMNIH? L'\n",
    "Skytale.decrypt(cipher, 14)"
   ]
  },
  {
   "cell_type": "code",
   "execution_count": 4,
   "metadata": {},
   "outputs": [
    {
     "data": {
      "text/plain": [
       "'WCERLERETANCT EHBILTAGMNIH? L*************'"
      ]
     },
     "execution_count": 4,
     "metadata": {},
     "output_type": "execute_result"
    }
   ],
   "source": [
    "plain_text = 'WELCHEBRILLETRAEGTMANNICHT?  '\n",
    "Skytale.encrypt(plain_text, 14) "
   ]
  },
  {
   "cell_type": "markdown",
   "metadata": {},
   "source": [
    "## Caesar"
   ]
  },
  {
   "cell_type": "code",
   "execution_count": 5,
   "metadata": {},
   "outputs": [
    {
     "name": "stdout",
     "output_type": "stream",
     "text": [
      "RZGXCZ CVVMAVMWZ CVO FMTKOJ?\n",
      "SAHYDA DWWNBWNXA DWP GNULPK?\n",
      "TBIZEB EXXOCXOYB EXQ HOVMQL?\n",
      "UCJAFC FYYPDYPZC FYR IPWNRM?\n",
      "VDKBGD GZZQEZQAD GZS JQXOSN?\n",
      "WELCHE HAARFARBE HAT KRYPTO?\n",
      "XFMDIF IBBSGBSCF IBU LSZQUP?\n",
      "YGNEJG JCCTHCTDG JCV MTARVQ?\n",
      "ZHOFKH KDDUIDUEH KDW NUBSWR?\n",
      "AIPGLI LEEVJEVFI LEX OVCTXS?\n",
      "BJQHMJ MFFWKFWGJ MFY PWDUYT?\n",
      "CKRINK NGGXLGXHK NGZ QXEVZU?\n",
      "DLSJOL OHHYMHYIL OHA RYFWAV?\n",
      "EMTKPM PIIZNIZJM PIB SZGXBW?\n",
      "FNULQN QJJAOJAKN QJC TAHYCX?\n",
      "GOVMRO RKKBPKBLO RKD UBIZDY?\n",
      "HPWNSP SLLCQLCMP SLE VCJAEZ?\n",
      "IQXOTQ TMMDRMDNQ TMF WDKBFA?\n",
      "JRYPUR UNNESNEOR UNG XELCGB?\n",
      "KSZQVS VOOFTOFPS VOH YFMDHC?\n",
      "LTARWT WPPGUPGQT WPI ZGNEID?\n",
      "MUBSXU XQQHVQHRU XQJ AHOFJE?\n",
      "NVCTYV YRRIWRISV YRK BIPGKF?\n",
      "OWDUZW ZSSJXSJTW ZSL CJQHLG?\n",
      "PXEVAX ATTKYTKUX ATM DKRIMH?\n",
      "QYFWBY BUULZULVY BUN ELSJNI?\n"
     ]
    }
   ],
   "source": [
    "cipher_text = 'rzgxcz cvvmavmwz cvo fmtkoj?'\n",
    "for i in range(26):\n",
    "    print(Caesar.decrypt(cipher_text, i))"
   ]
  },
  {
   "cell_type": "markdown",
   "metadata": {},
   "source": [
    "## Caesar & Skytale"
   ]
  },
  {
   "cell_type": "code",
   "execution_count": 6,
   "metadata": {},
   "outputs": [
    {
     "data": {
      "text/plain": [
       "'WASSAGTDERGROSS*STIFTZUDEMKLEINENSTIFT?FROHEWEIHNACHTEN***'"
      ]
     },
     "execution_count": 6,
     "metadata": {},
     "output_type": "execute_result"
    }
   ],
   "source": [
    "rot = 'EOOAQCSV'\n",
    "lila = 'N?BCWHUNL*'\n",
    "blau = 'CAIBFCBEE*PA'\n",
    "gelb = 'FJKVVEWINEK*JV'\n",
    "grau = 'TUANJTUPFBF*BS'\n",
    "\n",
    "caesar_keys = [18, 6, 3, 9, 25]\n",
    "caesar_ciphers = [rot, lila, blau, gelb, grau]\n",
    "\n",
    "caesar_decrypted = [Caesar.decrypt(cipher, key) for cipher, key in zip(caesar_ciphers, caesar_keys)]\n",
    "skytale_cipher = ''.join(caesar_decrypted)\n",
    "Skytale.decrypt(skytale_cipher, 14)"
   ]
  },
  {
   "cell_type": "markdown",
   "metadata": {},
   "source": [
    "## ADFGX"
   ]
  },
  {
   "cell_type": "code",
   "execution_count": 7,
   "metadata": {},
   "outputs": [],
   "source": [
    "ADFGX = {\n",
    "    'AA': 'L',\n",
    "    'AD': 'R',\n",
    "    'AF': 'M',\n",
    "    'AG': 'E',\n",
    "    'AX': 'I',\n",
    "    'DA': 'K',\n",
    "    'DD': 'F',\n",
    "    'DF': 'V',\n",
    "    'DG': 'W',\n",
    "    'DX': 'T',\n",
    "    'FA': 'C',\n",
    "    'FD': 'S',\n",
    "    'FF': 'A',\n",
    "    'FG': 'U',\n",
    "    'FX': 'Z',\n",
    "    'GA': 'H',\n",
    "    'GD': 'X',\n",
    "    'GF': 'G',\n",
    "    'GG': 'Y',\n",
    "    'GX': 'N',\n",
    "    'XA': 'B',\n",
    "    'XD': 'P',\n",
    "    'XF': 'O',\n",
    "    'XG': 'Q',\n",
    "    'XX': 'D',\n",
    "    \n",
    "}"
   ]
  },
  {
   "cell_type": "code",
   "execution_count": 8,
   "metadata": {},
   "outputs": [
    {
     "data": {
      "text/plain": [
       "'ANGRIFFMORGENUMACHT'"
      ]
     },
     "execution_count": 8,
     "metadata": {},
     "output_type": "execute_result"
    }
   ],
   "source": [
    "cipher_text = 'FF GX GF AD AX DD DD AF XF AD GF AG GX FG AF FF FA GA DX'\n",
    "decrypted = ''.join([ADFGX[i] for i in cipher_text.split(' ')])\n",
    "decrypted"
   ]
  }
 ],
 "metadata": {
  "kernelspec": {
   "display_name": "Python 3",
   "language": "python",
   "name": "python3"
  },
  "language_info": {
   "codemirror_mode": {
    "name": "ipython",
    "version": 3
   },
   "file_extension": ".py",
   "mimetype": "text/x-python",
   "name": "python",
   "nbconvert_exporter": "python",
   "pygments_lexer": "ipython3",
   "version": "3.6.7"
  },
  "toc": {
   "base_numbering": 1,
   "nav_menu": {},
   "number_sections": true,
   "sideBar": true,
   "skip_h1_title": false,
   "title_cell": "Table of Contents",
   "title_sidebar": "Contents",
   "toc_cell": false,
   "toc_position": {},
   "toc_section_display": true,
   "toc_window_display": false
  },
  "varInspector": {
   "cols": {
    "lenName": 16,
    "lenType": 16,
    "lenVar": 40
   },
   "kernels_config": {
    "python": {
     "delete_cmd_postfix": "",
     "delete_cmd_prefix": "del ",
     "library": "var_list.py",
     "varRefreshCmd": "print(var_dic_list())"
    },
    "r": {
     "delete_cmd_postfix": ") ",
     "delete_cmd_prefix": "rm(",
     "library": "var_list.r",
     "varRefreshCmd": "cat(var_dic_list()) "
    }
   },
   "types_to_exclude": [
    "module",
    "function",
    "builtin_function_or_method",
    "instance",
    "_Feature"
   ],
   "window_display": false
  }
 },
 "nbformat": 4,
 "nbformat_minor": 2
}
